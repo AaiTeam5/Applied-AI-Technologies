{
 "cells": [
  {
   "cell_type": "markdown",
   "metadata": {},
   "source": [
    "<img src=\"https://upload.wikimedia.org/wikipedia/commons/thumb/3/32/Hochschule-esslingen.svg/320px-Hochschule-esslingen.svg.png\" />\n",
    "\n",
    "<br>Name/s: Gaetano Arzanese, 749368\n",
    "<br>Team Nr: 5\n",
    "<br>Team Name: AICU\n",
    "<br>Studiengang: SWB \n",
    "<br>E-mail/s: gaarit01@hs-esslingen.de\n",
    "\n",
    "<br>Name/s: Felix Evers, 755102\n",
    "<br>Team Nr: 5\n",
    "<br>Team Name: AICU\n",
    "<br>Studiengang: TIB \n",
    "<br>E-mail/s: feevit00@hs-esslingen.de\n",
    "\n",
    "<br>Name/s: Giuseppe Pagano, 754430\n",
    "<br>Team Nr: 5\n",
    "<br>Team Name: AICU\n",
    "<br>Studiengang: TIB \n",
    "<br>E-mail/s: gipait01@hs-esslingen.de\n",
    "\n",
    "<br>Lecture: Applied Artificial Intelligence\n",
    "<br>Semseter: SS2019\n",
    "<br>Lecturers: Dionysios Satikidis (dionysios.satikidis@gmail.com); Jan Seyler (jan.seyler@gmail.com)\n",
    "\n",
    "\n",
    "***"
   ]
  },
}

